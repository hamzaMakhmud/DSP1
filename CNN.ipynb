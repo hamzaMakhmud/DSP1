{
  "cells": [
    {
      "cell_type": "markdown",
      "metadata": {
        "id": "view-in-github",
        "colab_type": "text"
      },
      "source": [
        "<a href=\"https://colab.research.google.com/github/hamzaMakhmud/DSP1/blob/main/CNN.ipynb\" target=\"_parent\"><img src=\"https://colab.research.google.com/assets/colab-badge.svg\" alt=\"Open In Colab\"/></a>"
      ]
    },
    {
      "cell_type": "code",
      "execution_count": 1,
      "id": "6b595686-e1c6-4944-be3d-922c3269dc10",
      "metadata": {
        "id": "6b595686-e1c6-4944-be3d-922c3269dc10"
      },
      "outputs": [],
      "source": [
        "import numpy as np\n",
        "import matplotlib.pyplot as plt\n",
        "from tensorflow.keras.datasets import mnist \n",
        "from tensorflow import keras\n",
        "from tensorflow.keras.layers import Dense, Flatten, Dropout, Conv2D, MaxPooling2D\n",
        "\n"
      ]
    },
    {
      "cell_type": "code",
      "execution_count": 2,
      "id": "34f9a83b-649f-4e1d-b575-6679e3baa72a",
      "metadata": {
        "colab": {
          "base_uri": "https://localhost:8080/"
        },
        "id": "34f9a83b-649f-4e1d-b575-6679e3baa72a",
        "outputId": "0903f494-a2ed-4952-9964-6f9ed851e05a"
      },
      "outputs": [
        {
          "output_type": "stream",
          "name": "stdout",
          "text": [
            "Downloading data from https://storage.googleapis.com/tensorflow/tf-keras-datasets/mnist.npz\n",
            "11493376/11490434 [==============================] - 0s 0us/step\n",
            "11501568/11490434 [==============================] - 0s 0us/step\n"
          ]
        }
      ],
      "source": [
        "(x_train, y_train), (x_test, y_test) = mnist.load_data()"
      ]
    },
    {
      "cell_type": "code",
      "execution_count": 3,
      "id": "d86eda7e-6f2b-4ac7-92d9-a54b55a717e0",
      "metadata": {
        "id": "d86eda7e-6f2b-4ac7-92d9-a54b55a717e0"
      },
      "outputs": [],
      "source": [
        "x_train = x_train / 255\n",
        "x_test = x_test / 255"
      ]
    },
    {
      "cell_type": "code",
      "execution_count": 4,
      "id": "ce7ac114-c036-4673-b3bd-6d5bf08c383c",
      "metadata": {
        "id": "ce7ac114-c036-4673-b3bd-6d5bf08c383c"
      },
      "outputs": [],
      "source": [
        "y_train_cat = keras.utils.to_categorical(y_train, 10)\n",
        "y_test_cat = keras.utils.to_categorical(y_test, 10)"
      ]
    },
    {
      "cell_type": "code",
      "execution_count": 5,
      "id": "a374ae16-83f3-491c-a2b6-6a28c41afffa",
      "metadata": {
        "id": "a374ae16-83f3-491c-a2b6-6a28c41afffa"
      },
      "outputs": [],
      "source": [
        "x_train = np.expand_dims(x_train, axis=3)\n",
        "x_test = np.expand_dims(x_test, axis=3)"
      ]
    },
    {
      "cell_type": "code",
      "execution_count": 6,
      "id": "2ee74196-1f9b-4f33-a01d-b3d4d0e88a8c",
      "metadata": {
        "id": "2ee74196-1f9b-4f33-a01d-b3d4d0e88a8c"
      },
      "outputs": [],
      "source": [
        "model = keras.Sequential([\n",
        "    Conv2D(32, (3,3), padding='same', activation='relu', input_shape=(28, 28, 1)),\n",
        "    MaxPooling2D((2, 2), strides=2),\n",
        "    Conv2D(64, (3,3), padding='same', activation='relu'),\n",
        "    MaxPooling2D((2, 2), strides=2),\n",
        "    Flatten(),\n",
        "    Dense(128, activation='relu'),\n",
        "    Dense(10,  activation='softmax')\n",
        "])\n"
      ]
    },
    {
      "cell_type": "code",
      "execution_count": 7,
      "id": "c4821003-f8f6-42c6-9917-c31e726540c9",
      "metadata": {
        "id": "c4821003-f8f6-42c6-9917-c31e726540c9"
      },
      "outputs": [],
      "source": [
        "model.compile(optimizer='adam',\n",
        "             loss='categorical_crossentropy',\n",
        "             metrics=['accuracy'])"
      ]
    },
    {
      "cell_type": "code",
      "execution_count": 8,
      "id": "603c92ab-cffa-43f6-a9fc-0247465e91c1",
      "metadata": {
        "colab": {
          "base_uri": "https://localhost:8080/"
        },
        "id": "603c92ab-cffa-43f6-a9fc-0247465e91c1",
        "outputId": "2ccd80ef-5d5c-4163-8194-9c163a25426e"
      },
      "outputs": [
        {
          "output_type": "stream",
          "name": "stdout",
          "text": [
            "Epoch 1/5\n",
            "1500/1500 [==============================] - 47s 31ms/step - loss: 0.1345 - accuracy: 0.9585 - val_loss: 0.0578 - val_accuracy: 0.9827\n",
            "Epoch 2/5\n",
            "1500/1500 [==============================] - 46s 31ms/step - loss: 0.0431 - accuracy: 0.9868 - val_loss: 0.0430 - val_accuracy: 0.9864\n",
            "Epoch 3/5\n",
            "1500/1500 [==============================] - 46s 31ms/step - loss: 0.0295 - accuracy: 0.9905 - val_loss: 0.0396 - val_accuracy: 0.9886\n",
            "Epoch 4/5\n",
            "1500/1500 [==============================] - 46s 31ms/step - loss: 0.0214 - accuracy: 0.9926 - val_loss: 0.0390 - val_accuracy: 0.9886\n",
            "Epoch 5/5\n",
            "1500/1500 [==============================] - 46s 31ms/step - loss: 0.0164 - accuracy: 0.9947 - val_loss: 0.0346 - val_accuracy: 0.9902\n"
          ]
        }
      ],
      "source": [
        "his = model.fit(x_train, y_train_cat, batch_size=32, epochs=5, validation_split=0.2)"
      ]
    },
    {
      "cell_type": "code",
      "execution_count": 9,
      "id": "8ce2e1d0-2dd7-42d1-9d2a-a752396cf074",
      "metadata": {
        "colab": {
          "base_uri": "https://localhost:8080/"
        },
        "id": "8ce2e1d0-2dd7-42d1-9d2a-a752396cf074",
        "outputId": "107660f1-a7f9-46fd-ceea-c8b71b8e439f"
      },
      "outputs": [
        {
          "output_type": "stream",
          "name": "stdout",
          "text": [
            "313/313 [==============================] - 3s 10ms/step - loss: 0.0254 - accuracy: 0.9909\n"
          ]
        },
        {
          "output_type": "execute_result",
          "data": {
            "text/plain": [
              "[0.025439182296395302, 0.9908999800682068]"
            ]
          },
          "metadata": {},
          "execution_count": 9
        }
      ],
      "source": [
        "model.evaluate(x_test, y_test_cat)"
      ]
    },
    {
      "cell_type": "code",
      "execution_count": null,
      "id": "12a47a95-90f5-4a4b-8e95-db2e325259ec",
      "metadata": {
        "id": "12a47a95-90f5-4a4b-8e95-db2e325259ec"
      },
      "outputs": [],
      "source": [
        ""
      ]
    }
  ],
  "metadata": {
    "kernelspec": {
      "display_name": "Python 3 (ipykernel)",
      "language": "python",
      "name": "python3"
    },
    "language_info": {
      "codemirror_mode": {
        "name": "ipython",
        "version": 3
      },
      "file_extension": ".py",
      "mimetype": "text/x-python",
      "name": "python",
      "nbconvert_exporter": "python",
      "pygments_lexer": "ipython3",
      "version": "3.8.11"
    },
    "colab": {
      "name": "CNN.ipynb",
      "provenance": [],
      "include_colab_link": true
    }
  },
  "nbformat": 4,
  "nbformat_minor": 5
}